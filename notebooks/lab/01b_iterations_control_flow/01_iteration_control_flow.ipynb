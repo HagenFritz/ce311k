{
 "cells": [
  {
   "cell_type": "markdown",
   "metadata": {},
   "source": [
    "## Exercise 01.0 (if-else)\n",
    "\n",
    "Consider the following assessment criteria which map a score out of 100 to an assessment grade for CE311K:\n",
    "\n",
    "| Grade            | Raw score  (/100)      |\n",
    "| ---------------- | ---------------------- |\n",
    "| A                | $\\ge 90$               |\n",
    "| A-               | $\\ge 87$ and $< 90$    |\n",
    "| B+               | $\\ge 84$ and $< 87$    |\n",
    "| B                | $\\ge 80$ and $< 84$    |\n",
    "| B-               | $\\ge 77$ and $< 80$    |\n",
    "| C+               | $\\ge 74$ and $< 77$    |\n",
    "| C                | $\\ge 70$ and $< 74$    |\n",
    "| C-               | $\\ge 67$ and $< 70$    |\n",
    "| D+               | $\\ge 64$ and $< 67$    |\n",
    "| D                | $\\ge 60$ and $< 64$    |\n",
    "| F                | $< 60$                 |\n",
    "\n",
    "Write a program that, given an a score, prints the appropriate grade. Print an error message `\"Score error\"`, if the input score is greater than 100 or less than zero."
   ]
  },
  {
   "cell_type": "code",
   "execution_count": null,
   "metadata": {
    "deletable": false
   },
   "outputs": [],
   "source": [
    "scores = [79, 75, 59, 60, -5, 100, 101]\n",
    "\n",
    "# Output grades as string\n",
    "grades = []\n",
    "\n",
    "# Write your code here and remove the exception below\n",
    "raise NotImplementedError()"
   ]
  },
  {
   "cell_type": "code",
   "execution_count": null,
   "metadata": {
    "deletable": false,
    "editable": false
   },
   "outputs": [],
   "source": [
    "grades_check = ['B-', 'C+', 'F', 'D', 'Score error', 'A', 'Score error']\n",
    "assert grades == grades_check"
   ]
  },
  {
   "cell_type": "markdown",
   "metadata": {
    "deletable": false
   },
   "source": [
    "## Exercise 01.1 (for and if-else)\n",
    "\n",
    "Consider a list of numbers shown below. Classify the list into the following separate lists allowing for a number to appear on multiple lists (e.g., 3 could be on odd and prime): even numbers, odd numbers, primes and squares.\n",
    "\n",
    "`numbers = [0, 2, 5, 7, 11, 4, 6, 25, 16, 39, 43]`"
   ]
  },
  {
   "cell_type": "code",
   "execution_count": null,
   "metadata": {
    "deletable": false
   },
   "outputs": [],
   "source": [
    "numbers = [0, 2, 5, 7, 11, 4, 6, 25, 16, 39, 43]\n",
    "\n",
    "# Create empty list of sequences\n",
    "even = []\n",
    "odd = []\n",
    "primes = []\n",
    "squares = []\n",
    "\n",
    "# Write your code here and remove the exception below\n",
    "raise NotImplementedError()"
   ]
  },
  {
   "cell_type": "code",
   "execution_count": null,
   "metadata": {
    "deletable": false,
    "editable": false
   },
   "outputs": [],
   "source": [
    "assert even == [0, 2, 4, 6, 16]\n",
    "assert odd == [5, 7, 11, 25, 39, 43]\n",
    "assert primes == [2, 5, 7, 11, 43]\n",
    "assert squares == [4, 25, 16]"
   ]
  },
  {
   "cell_type": "markdown",
   "metadata": {
    "deletable": false
   },
   "source": [
    "## Exercise 01.2: Compute the prime factors for a number `n`\n",
    "\n",
    "When checking if a number is prime, it is sufficient to check if it is divisble by numbers between 2 and it's square root. Use `math.sqrt(x)` to get the square root of the number `x`. \n",
    "\n",
    "Hint: You may need to use a nested for-loop"
   ]
  },
  {
   "cell_type": "code",
   "execution_count": null,
   "metadata": {},
   "outputs": [],
   "source": [
    "n = 1330\n",
    "\n",
    "# Prime factors\n",
    "prime_factors = []\n",
    "\n",
    "# Write your code here and remove the exception below\n",
    "raise NotImplementedError()"
   ]
  },
  {
   "cell_type": "code",
   "execution_count": null,
   "metadata": {
    "deletable": false,
    "editable": false
   },
   "outputs": [],
   "source": [
    "assert prime_factors == [2, 5, 7, 19]"
   ]
  },
  {
   "cell_type": "markdown",
   "metadata": {},
   "source": [
    "## Exercise 01.3: Cartesian to polar coordinates\n",
    "\n",
    "Convert the x and y coordinates of a point in a plane to polar coordinates (r, φ) in which φ is measured from\n",
    "(-π, π) with φ = 0 defined as the x-axis. To function correctly, the calculations must appropriately evaluate which quadrant the point is in and it must prevent division by zero, otherwise the program will experience an error. The expressions required to compute the appropriate φ are:\n",
    "\n",
    "$\\tan^{-1}(y/x) \\quad  \\quad \\quad$  if $ x > 0 $\n",
    "\n",
    "$\\tan^{-1}(y/x) + \\pi \\quad$ if $ x < 0 $ and $y \\ge 0$\n",
    "\n",
    "$\\tan^{-1}(y/x) - \\pi \\quad$ if $ x < 0 $ and $y < 0$\n",
    "\n",
    "$\\pi/2  \\quad \\quad  \\quad \\quad$ if $ x = 0 $ and $y > 0$\n",
    "\n",
    "$-\\pi/2 \\quad \\quad  \\quad \\quad$ if $ x = 0 $ and $y < 0$\n",
    "\n",
    "$0 \\quad \\quad \\quad  \\quad$ if $ x = 0 $ and $y = 0$\n",
    "\n",
    "![Cartesian to polar coordinates](https://upload.wikimedia.org/wikipedia/commons/7/78/Polar_to_cartesian.svg)"
   ]
  },
  {
   "cell_type": "code",
   "execution_count": null,
   "metadata": {
    "deletable": false
   },
   "outputs": [],
   "source": [
    "x = -3.2\n",
    "y = 4.5\n",
    "\n",
    "# Define variables r and θ (to define \\theta and hit tab)\n",
    "# Write your code here and remove the exception below\n",
    "raise NotImplementedError()"
   ]
  },
  {
   "cell_type": "code",
   "execution_count": null,
   "metadata": {
    "deletable": false,
    "editable": false
   },
   "outputs": [],
   "source": [
    "assert round(r - 5.5217750769114, 8) == 0\n",
    "assert round(θ - 2.1889405527301, 8) == 0"
   ]
  }
 ],
 "metadata": {
  "kernelspec": {
   "display_name": "Python 3",
   "language": "python",
   "name": "python3"
  },
  "language_info": {
   "codemirror_mode": {
    "name": "ipython",
    "version": 3
   },
   "file_extension": ".py",
   "mimetype": "text/x-python",
   "name": "python",
   "nbconvert_exporter": "python",
   "pygments_lexer": "ipython3",
   "version": "3.7.4"
  }
 },
 "nbformat": 4,
 "nbformat_minor": 1
}
