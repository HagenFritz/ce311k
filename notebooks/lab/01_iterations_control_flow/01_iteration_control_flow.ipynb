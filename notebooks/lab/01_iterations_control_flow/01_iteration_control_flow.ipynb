{
 "cells": [
  {
   "cell_type": "markdown",
   "metadata": {},
   "source": [
    "## Exercise 01.0 (if-else)\n",
    "\n",
    "Consider the following assessment criteria which map a score out of 100 to an assessment grade for CE311K:\n",
    "\n",
    "| Grade            | Raw score  (/100)      |\n",
    "| ---------------- | ---------------------- |\n",
    "| A                | $\\ge 90$               |\n",
    "| A-               | $\\ge 87$ and $< 90$    |\n",
    "| B+               | $\\ge 84$ and $< 87$    |\n",
    "| B                | $\\ge 80$ and $< 84$    |\n",
    "| B-               | $\\ge 77$ and $< 80$    |\n",
    "| C+               | $\\ge 74$ and $< 77$    |\n",
    "| C                | $\\ge 70$ and $< 74$    |\n",
    "| C-               | $\\ge 67$ and $< 70$    |\n",
    "| D+               | $\\ge 64$ and $< 67$    |\n",
    "| D                | $\\ge 60$ and $< 64$    |\n",
    "| F                | $< 60$                 |\n",
    "\n",
    "Write a program that, given an a score, prints the appropriate grade. Print an error message `\"Score error\"`, if the input score is greater than 100 or less than zero."
   ]
  },
  {
   "cell_type": "code",
   "execution_count": null,
   "metadata": {
    "deletable": false,
    "nbgrader": {
     "checksum": "a514c1218467051dab6b6e4fa054bc90",
     "grade": false,
     "grade_id": "cell-71121f470be22e4a",
     "locked": false,
     "schema_version": 1,
     "solution": true
    }
   },
   "outputs": [],
   "source": [
    "scores = [79, 75, 59, 60, -5, 100, 101]\n",
    "\n",
    "# Output grades as string\n",
    "grades = []\n",
    "\n",
    "# Write your code here and remove the exception below\n",
    "raise NotImplementedError()"
   ]
  },
  {
   "cell_type": "code",
   "execution_count": null,
   "metadata": {
    "deletable": false,
    "editable": false
   },
   "outputs": [],
   "source": [
    "grades_check = ['B-', 'C+', 'F', 'D', 'Score error', 'A', 'Score error']\n",
    "assert grades == grades_check"
   ]
  }
 ],
 "metadata": {
  "kernelspec": {
   "display_name": "Python 3",
   "language": "python",
   "name": "python3"
  },
  "language_info": {
   "codemirror_mode": {
    "name": "ipython",
    "version": 3
   },
   "file_extension": ".py",
   "mimetype": "text/x-python",
   "name": "python",
   "nbconvert_exporter": "python",
   "pygments_lexer": "ipython3",
   "version": "3.7.4"
  }
 },
 "nbformat": 4,
 "nbformat_minor": 1
}
