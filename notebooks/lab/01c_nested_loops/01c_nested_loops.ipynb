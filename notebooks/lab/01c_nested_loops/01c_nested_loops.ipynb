{
 "cells": [
  {
   "cell_type": "markdown",
   "metadata": {},
   "source": [
    "## 01c.0 Removing duplicates\n",
    "\n",
    "You want to eliminate the duplicate values in a sequence, but preserve the order of the\n",
    "remaining items"
   ]
  },
  {
   "cell_type": "code",
   "execution_count": null,
   "metadata": {},
   "outputs": [],
   "source": [
    "# List of sequence with duplicate values\n",
    "\n",
    "duplicates = [1, 4, 5, 7, 5, 3, 2, 1, 11, 6, 6, 6, 7, 5]\n",
    "\n",
    "# Unique\n",
    "unique = []"
   ]
  },
  {
   "cell_type": "code",
   "execution_count": null,
   "metadata": {},
   "outputs": [],
   "source": [
    "assert unique == [1, 4, 5, 7, 3, 2, 11, 6]"
   ]
  },
  {
   "cell_type": "markdown",
   "metadata": {},
   "source": [
    "## 01c.1 How to train your dragon party\n",
    "\n",
    "A few cheaky real dinosaurs have sneaked into our `How to train your dragon` party.\n",
    "\n",
    "> a. Check if a real dinosaur has sneaked into our dragon party.\n",
    "\n",
    "![How to train your dragon](https://i.pinimg.com/originals/88/cf/43/88cf43867c30db6b1ec9c98788429bc0.jpg)"
   ]
  },
  {
   "cell_type": "code",
   "execution_count": null,
   "metadata": {},
   "outputs": [],
   "source": [
    "guests = [\"Night fury\", \"Stegosaurus\", \"Stormfly\", \"Velociraptor\", \n",
    "          \"Cloudjumper\", \"Tryannosaurus\", \"Triceratops\", \"Gronckle\", \"Zippleback\"]\n",
    "\n",
    "approved_dragons = [\"Stormfly\", \"Nadder\", \"Night fury\", \"Meatlug\", \"Skrill\", \n",
    "                    \"Zippleback\", \"Gronckle\", \"Cloudjumper\"]\n",
    "\n",
    "sneaky_dinosaur = False\n",
    "\n",
    "# Write your code below and remove the exception\n",
    "raise NotImplementedError()"
   ]
  },
  {
   "cell_type": "code",
   "execution_count": null,
   "metadata": {},
   "outputs": [],
   "source": [
    "assert sneaky_dinosaur == True"
   ]
  },
  {
   "cell_type": "markdown",
   "metadata": {},
   "source": [
    " > b. Create a new list of dinosaurs and preserve the order in which they appear, who do not appear in our approved guest lists of dragons."
   ]
  },
  {
   "cell_type": "code",
   "execution_count": null,
   "metadata": {},
   "outputs": [],
   "source": [
    "dinosaurs = []\n",
    "\n",
    "# Write your code below and remove the exception\n",
    "raise NotImplementedError()"
   ]
  },
  {
   "cell_type": "code",
   "execution_count": null,
   "metadata": {},
   "outputs": [],
   "source": [
    "assert dinosaurs == [\"Stegosaurus\", \"Velociraptor\", \"Tryannosaurus\", \"Triceratops\"]"
   ]
  }
 ],
 "metadata": {
  "kernelspec": {
   "display_name": "Python 3",
   "language": "python",
   "name": "python3"
  },
  "language_info": {
   "codemirror_mode": {
    "name": "ipython",
    "version": 3
   },
   "file_extension": ".py",
   "mimetype": "text/x-python",
   "name": "python",
   "nbconvert_exporter": "python",
   "pygments_lexer": "ipython3",
   "version": "3.7.4"
  }
 },
 "nbformat": 4,
 "nbformat_minor": 2
}
