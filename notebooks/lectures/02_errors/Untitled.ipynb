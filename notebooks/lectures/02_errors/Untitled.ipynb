{
 "cells": [
  {
   "cell_type": "code",
   "execution_count": 32,
   "metadata": {},
   "outputs": [
    {
     "name": "stdout",
     "output_type": "stream",
     "text": [
      "Error: -0.000291983711137921986278342956\n"
     ]
    }
   ],
   "source": [
    "import numpy as np\n",
    "# Test with 16 bit float\n",
    "x = np.float16(0.0001)\n",
    "\n",
    "sum = np.float16(0)\n",
    "for i in range(10001, 0, -1):\n",
    "    sum += np.float16(1./i**4)\n",
    "\n",
    "print(\"Error: {:.30f}\".format(sum - np.pi**4/90))"
   ]
  },
  {
   "cell_type": "code",
   "execution_count": null,
   "metadata": {},
   "outputs": [],
   "source": [
    "Error: -0.000291983711137921986278342956"
   ]
  },
  {
   "cell_type": "code",
   "execution_count": null,
   "metadata": {},
   "outputs": [],
   "source": []
  }
 ],
 "metadata": {
  "kernelspec": {
   "display_name": "Python 3",
   "language": "python",
   "name": "python3"
  },
  "language_info": {
   "codemirror_mode": {
    "name": "ipython",
    "version": 3
   },
   "file_extension": ".py",
   "mimetype": "text/x-python",
   "name": "python",
   "nbconvert_exporter": "python",
   "pygments_lexer": "ipython3",
   "version": "3.7.4"
  }
 },
 "nbformat": 4,
 "nbformat_minor": 2
}
