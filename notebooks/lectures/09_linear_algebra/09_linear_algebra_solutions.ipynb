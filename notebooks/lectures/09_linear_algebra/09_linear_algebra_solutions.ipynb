{
 "cells": [
  {
   "cell_type": "markdown",
   "metadata": {},
   "source": [
    "# Introduction\n",
    "\n",
    "We will be using NumPy (http://www.numpy.org/) and SciPy (https://www.scipy.org/) to solve system of linear equations\n",
    "\n",
    "\n",
    "## Objectives\n",
    "\n",
    "- Solving system of linear equations using Gauss Elimination"
   ]
  },
  {
   "cell_type": "code",
   "execution_count": 1,
   "metadata": {},
   "outputs": [],
   "source": [
    "import numpy as np"
   ]
  },
  {
   "cell_type": "markdown",
   "metadata": {},
   "source": [
    "## Solve a linear system of equations\n",
    "\n",
    "Consider a Matrix $A$, and vectors $x$ and $b$:\n",
    "\n",
    "$$ \n",
    "\\begin{bmatrix} \n",
    "2 & 4 & 6 \\\\\n",
    "4 & 11 & 21 \\\\\n",
    "6 & 21 & 52 \\\\\n",
    "\\end{bmatrix} \n",
    "\t\\begin{bmatrix}\n",
    "\t\tx_1\\\\\n",
    "\t\tx_2\\\\\n",
    "\t\tx_3\\\\\n",
    "\t\\end{bmatrix}\n",
    "\t\\begin{bmatrix}\n",
    "\t\t24 \\\\\n",
    "\t\t72 \\\\\n",
    "\t\t158 \\\\\n",
    "\t\\end{bmatrix}\n",
    "$$\n",
    "\n",
    "we use:"
   ]
  },
  {
   "cell_type": "code",
   "execution_count": 2,
   "metadata": {},
   "outputs": [],
   "source": [
    "A = np.array([[2,4,6], [4,11,21], [6, 21, 52]])\n",
    "b = np.array([24, 72, 158])"
   ]
  },
  {
   "cell_type": "markdown",
   "metadata": {},
   "source": [
    "Check the length of `A` and `b`"
   ]
  },
  {
   "cell_type": "code",
   "execution_count": 3,
   "metadata": {},
   "outputs": [
    {
     "name": "stdout",
     "output_type": "stream",
     "text": [
      "(3, 3)\n",
      "(3,)\n"
     ]
    }
   ],
   "source": [
    "print(A.shape)\n",
    "print(b.shape)"
   ]
  },
  {
   "cell_type": "markdown",
   "metadata": {},
   "source": [
    "The determinant ($\\det(A)$) can be computed using functions in the NumPy submodule `linalg`. If the determinant of $A$ is non-zero, then we have a solution."
   ]
  },
  {
   "cell_type": "code",
   "execution_count": 4,
   "metadata": {},
   "outputs": [
    {
     "name": "stdout",
     "output_type": "stream",
     "text": [
      "Determinant of A: 41.999999999999964\n"
     ]
    }
   ],
   "source": [
    "Adet = np.linalg.det(A)\n",
    "print(\"Determinant of A: {}\".format(Adet))"
   ]
  },
  {
   "cell_type": "markdown",
   "metadata": {},
   "source": [
    "Solve using the inverse of A"
   ]
  },
  {
   "cell_type": "code",
   "execution_count": 5,
   "metadata": {},
   "outputs": [
    {
     "name": "stdout",
     "output_type": "stream",
     "text": [
      "x = [2. 2. 2.]\n"
     ]
    }
   ],
   "source": [
    "Ainv = np.linalg.inv(A)\n",
    "x = Ainv.dot(b)\n",
    "print(\"x = {}\".format(x))"
   ]
  },
  {
   "cell_type": "markdown",
   "metadata": {},
   "source": [
    "Solution using Gauss Elimination"
   ]
  },
  {
   "cell_type": "code",
   "execution_count": 6,
   "metadata": {},
   "outputs": [
    {
     "name": "stdout",
     "output_type": "stream",
     "text": [
      "x = [2. 2. 2.]\n"
     ]
    }
   ],
   "source": [
    "A = np.array([[2,4,6], [4,11,21], [6, 21, 52]])\n",
    "\n",
    "b = np.array([24, 72, 158])\n",
    "\n",
    "x = np.linalg.solve(A, b)\n",
    "print(\"x = {}\".format(x))"
   ]
  },
  {
   "cell_type": "markdown",
   "metadata": {},
   "source": [
    "## Gauss-Seidel iterative approach"
   ]
  },
  {
   "cell_type": "code",
   "execution_count": 11,
   "metadata": {},
   "outputs": [
    {
     "name": "stderr",
     "output_type": "stream",
     "text": [
      "/usr/local/lib/python3.7/site-packages/ipykernel_launcher.py:10: RuntimeWarning: overflow encountered in multiply\n",
      "  # Remove the CWD from sys.path while we load stuff.\n"
     ]
    },
    {
     "ename": "RuntimeError",
     "evalue": "Insufficient number of iterations",
     "output_type": "error",
     "traceback": [
      "\u001b[0;31m---------------------------------------------------------------------------\u001b[0m",
      "\u001b[0;31mRuntimeError\u001b[0m                              Traceback (most recent call last)",
      "\u001b[0;32m<ipython-input-11-cfc590a26ea6>\u001b[0m in \u001b[0;36m<module>\u001b[0;34m()\u001b[0m\n\u001b[1;32m     31\u001b[0m \u001b[0mb\u001b[0m \u001b[0;34m=\u001b[0m \u001b[0mnp\u001b[0m\u001b[0;34m.\u001b[0m\u001b[0marray\u001b[0m\u001b[0;34m(\u001b[0m\u001b[0;34m[\u001b[0m\u001b[0;36m10\u001b[0m\u001b[0;34m,\u001b[0m \u001b[0;36m16\u001b[0m\u001b[0;34m,\u001b[0m \u001b[0;36m8\u001b[0m\u001b[0;34m]\u001b[0m\u001b[0;34m)\u001b[0m\u001b[0;34m\u001b[0m\u001b[0;34m\u001b[0m\u001b[0m\n\u001b[1;32m     32\u001b[0m \u001b[0;34m\u001b[0m\u001b[0m\n\u001b[0;32m---> 33\u001b[0;31m \u001b[0mx\u001b[0m\u001b[0;34m,\u001b[0m \u001b[0merror\u001b[0m\u001b[0;34m,\u001b[0m \u001b[0miter\u001b[0m \u001b[0;34m=\u001b[0m \u001b[0mseidel\u001b[0m\u001b[0;34m(\u001b[0m\u001b[0mA\u001b[0m\u001b[0;34m,\u001b[0m \u001b[0mb\u001b[0m\u001b[0;34m)\u001b[0m\u001b[0;34m\u001b[0m\u001b[0;34m\u001b[0m\u001b[0m\n\u001b[0m\u001b[1;32m     34\u001b[0m \u001b[0mprint\u001b[0m\u001b[0;34m(\u001b[0m\u001b[0;34m\"Gauss-Seidel iterations {},\\nx: {},\\nerror: {}\"\u001b[0m\u001b[0;34m.\u001b[0m\u001b[0mformat\u001b[0m\u001b[0;34m(\u001b[0m\u001b[0miter\u001b[0m\u001b[0;34m,\u001b[0m \u001b[0mx\u001b[0m\u001b[0;34m,\u001b[0m \u001b[0merror\u001b[0m\u001b[0;34m)\u001b[0m\u001b[0;34m)\u001b[0m\u001b[0;34m\u001b[0m\u001b[0;34m\u001b[0m\u001b[0m\n",
      "\u001b[0;32m<ipython-input-11-cfc590a26ea6>\u001b[0m in \u001b[0;36mseidel\u001b[0;34m(A, b, x, max_iter)\u001b[0m\n\u001b[1;32m     16\u001b[0m \u001b[0;34m\u001b[0m\u001b[0m\n\u001b[1;32m     17\u001b[0m     \u001b[0;32melse\u001b[0m\u001b[0;34m:\u001b[0m \u001b[0;31m# no break\u001b[0m\u001b[0;34m\u001b[0m\u001b[0;34m\u001b[0m\u001b[0m\n\u001b[0;32m---> 18\u001b[0;31m         \u001b[0;32mraise\u001b[0m \u001b[0mRuntimeError\u001b[0m\u001b[0;34m(\u001b[0m\u001b[0;34m\"Insufficient number of iterations\"\u001b[0m\u001b[0;34m)\u001b[0m\u001b[0;34m\u001b[0m\u001b[0;34m\u001b[0m\u001b[0m\n\u001b[0m\u001b[1;32m     19\u001b[0m \u001b[0;34m\u001b[0m\u001b[0m\n\u001b[1;32m     20\u001b[0m     \u001b[0merror\u001b[0m \u001b[0;34m=\u001b[0m \u001b[0mnp\u001b[0m\u001b[0;34m.\u001b[0m\u001b[0mdot\u001b[0m\u001b[0;34m(\u001b[0m\u001b[0mA\u001b[0m\u001b[0;34m,\u001b[0m \u001b[0mx\u001b[0m\u001b[0;34m)\u001b[0m \u001b[0;34m-\u001b[0m \u001b[0mb\u001b[0m\u001b[0;34m\u001b[0m\u001b[0;34m\u001b[0m\u001b[0m\n",
      "\u001b[0;31mRuntimeError\u001b[0m: Insufficient number of iterations"
     ]
    }
   ],
   "source": [
    "def seidel(A, b, x = np.zeros(b.shape[0]), max_iter = 1000):    \n",
    "    for iter in range(max_iter): \n",
    "        # Loop through each row\n",
    "        for i in range(A.shape[0]):         \n",
    "            # temp variable d to store b[j] \n",
    "            d = b[i]\n",
    "            # Iterate through the columns\n",
    "            for j in range(A.shape[1]):      \n",
    "                if(i != j): \n",
    "                    d-=A[i][j] * x[j] \n",
    "            # updating the value of our solution         \n",
    "            x[i] = d / A[i][i] \n",
    "        \n",
    "        if np.allclose(np.dot(A, x), b, rtol=1e-8):\n",
    "            break\n",
    "\n",
    "    else: # no break\n",
    "        raise RuntimeError(\"Insufficient number of iterations\")\n",
    "        \n",
    "    error = np.dot(A, x) - b\n",
    "    # returning our updated solution            \n",
    "    return x, error, iter\n",
    "\n",
    "\n",
    "A = np.array([[2,4,6], [4,11,21], [6, 21, 52]])\n",
    "\n",
    "b = np.array([24, 72, 158])\n",
    "\n",
    "x, error, iter = seidel(A, b)\n",
    "print(\"Gauss-Seidel iterations {},\\nx: {},\\nerror: {}\".format(iter, x, error))"
   ]
  },
  {
   "cell_type": "markdown",
   "metadata": {},
   "source": [
    "## Truss analysis"
   ]
  },
  {
   "cell_type": "code",
   "execution_count": 8,
   "metadata": {},
   "outputs": [
    {
     "name": "stdout",
     "output_type": "stream",
     "text": [
      "[ 40.58274196   0.          48.51398804  70.29137098 -81.16548391\n",
      "  34.30456993  46.86091399  84.02869217 -68.60913985 -93.72182797]\n"
     ]
    }
   ],
   "source": [
    "import math\n",
    "\n",
    "A = np.zeros((10, 10))\n",
    "\n",
    "# Angles\n",
    "alpha = math.pi/6\n",
    "beta = math.pi/3\n",
    "gamma = math.pi/4\n",
    "delta = math.pi/3\n",
    "\n",
    "A[0,0] = 1\n",
    "A[0,4] = np.sin(alpha)\n",
    "\n",
    "A[1,1] = 1 \n",
    "A[1,3] = 1 \n",
    "A[1,4] = np.cos(alpha)\n",
    "\n",
    "A[2,6] = np.sin(beta) \n",
    "A[2,7] = np.sin(gamma)\n",
    "\n",
    "A[3,3] = -1 \n",
    "A[3,5] = 1 \n",
    "A[3,6] = -np.cos(beta) \n",
    "A[3,7] = np.cos(gamma)\n",
    "\n",
    "A[4,2] = 1 \n",
    "A[4,8] = np.sin(gamma)\n",
    "\n",
    "A[5,5] = -1 \n",
    "A[5,8] = -np.cos(delta)\n",
    "\n",
    "A[6,4] = -np.sin(alpha) \n",
    "A[6,6] = -np.sin(beta)\n",
    "\n",
    "A[7,4] = -np.cos(alpha) \n",
    "A[7,6] = np.cos(beta) \n",
    "A[7,9] = 1\n",
    "\n",
    "A[8,7] = -np.sin(gamma) \n",
    "A[8,8] = -np.sin(delta)\n",
    "\n",
    "A[9,7] = -np.cos(gamma) \n",
    "A[9,8] = np.cos(delta) \n",
    "A[9,9] = -1\n",
    "\n",
    "\n",
    "# Force\n",
    "b = np.zeros(10)\n",
    "b[2] = 100\n",
    "\n",
    "x = np.linalg.solve(A, b)\n",
    "print(x)"
   ]
  },
  {
   "cell_type": "code",
   "execution_count": null,
   "metadata": {},
   "outputs": [],
   "source": []
  }
 ],
 "metadata": {
  "kernelspec": {
   "display_name": "Python 3",
   "language": "python",
   "name": "python3"
  },
  "language_info": {
   "codemirror_mode": {
    "name": "ipython",
    "version": 3
   },
   "file_extension": ".py",
   "mimetype": "text/x-python",
   "name": "python",
   "nbconvert_exporter": "python",
   "pygments_lexer": "ipython3",
   "version": "3.7.5"
  }
 },
 "nbformat": 4,
 "nbformat_minor": 1
}
