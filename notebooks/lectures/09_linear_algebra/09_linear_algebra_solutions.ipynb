{
 "cells": [
  {
   "cell_type": "markdown",
   "metadata": {},
   "source": [
    "# Introduction\n",
    "\n",
    "We will be using NumPy (http://www.numpy.org/) and SciPy (https://www.scipy.org/) to solve system of linear equations\n",
    "\n",
    "\n",
    "## Objectives\n",
    "\n",
    "- Solving system of linear equations using Gauss Elimination"
   ]
  },
  {
   "cell_type": "code",
   "execution_count": 3,
   "metadata": {},
   "outputs": [],
   "source": [
    "import numpy as np"
   ]
  },
  {
   "cell_type": "markdown",
   "metadata": {},
   "source": [
    "## Solve a linear system of equations\n",
    "\n",
    "Consider a Matrix $A$, and vectors $x$ and $b$:\n",
    "\n",
    "$$ \n",
    "\\begin{bmatrix} \n",
    "2 & 4 & 6 \\\\\n",
    "4 & 11 & 21 \\\\\n",
    "6 & 21 & 52 \\\\\n",
    "\\end{bmatrix} \n",
    "\t\\begin{bmatrix}\n",
    "\t\tx_1\\\\\n",
    "\t\tx_2\\\\\n",
    "\t\tx_3\\\\\n",
    "\t\\end{bmatrix}\n",
    "\t\\begin{bmatrix}\n",
    "\t\t24 \\\\\n",
    "\t\t72 \\\\\n",
    "\t\t158 \\\\\n",
    "\t\\end{bmatrix}\n",
    "$$\n",
    "\n",
    "we use:"
   ]
  },
  {
   "cell_type": "code",
   "execution_count": 4,
   "metadata": {},
   "outputs": [],
   "source": [
    "A = np.array([[2,4,6], [4,11,21], [6, 21, 52]])\n",
    "b = np.array([24, 72, 158])"
   ]
  },
  {
   "cell_type": "markdown",
   "metadata": {},
   "source": [
    "Check the length of `A` and `b`"
   ]
  },
  {
   "cell_type": "code",
   "execution_count": 5,
   "metadata": {},
   "outputs": [
    {
     "name": "stdout",
     "output_type": "stream",
     "text": [
      "(3, 3)\n",
      "(3,)\n"
     ]
    }
   ],
   "source": [
    "print(A.shape)\n",
    "print(b.shape)"
   ]
  },
  {
   "cell_type": "markdown",
   "metadata": {},
   "source": [
    "The determinant ($\\det(A)$) can be computed using functions in the NumPy submodule `linalg`. If the determinant of $A$ is non-zero, then we have a solution."
   ]
  },
  {
   "cell_type": "code",
   "execution_count": 6,
   "metadata": {},
   "outputs": [
    {
     "name": "stdout",
     "output_type": "stream",
     "text": [
      "Determinant of A: 41.999999999999964\n"
     ]
    }
   ],
   "source": [
    "Adet = np.linalg.det(A)\n",
    "print(\"Determinant of A: {}\".format(Adet))"
   ]
  },
  {
   "cell_type": "markdown",
   "metadata": {},
   "source": [
    "Solve using the inverse of A"
   ]
  },
  {
   "cell_type": "code",
   "execution_count": 7,
   "metadata": {},
   "outputs": [
    {
     "name": "stdout",
     "output_type": "stream",
     "text": [
      "x = [2. 2. 2.]\n"
     ]
    }
   ],
   "source": [
    "Ainv = np.linalg.inv(A)\n",
    "x = Ainv.dot(b)\n",
    "print(\"x = {}\".format(x))"
   ]
  },
  {
   "cell_type": "markdown",
   "metadata": {},
   "source": [
    "Solution using Gauss Elimination"
   ]
  },
  {
   "cell_type": "code",
   "execution_count": 61,
   "metadata": {},
   "outputs": [
    {
     "name": "stdout",
     "output_type": "stream",
     "text": [
      "x = [2. 2. 2.]\n"
     ]
    }
   ],
   "source": [
    "A = np.array([[2,4,6], [4,11,21], [6, 21, 52]])\n",
    "\n",
    "b = np.array([24, 72, 158])\n",
    "\n",
    "x = np.linalg.solve(A, b)\n",
    "print(\"x = {}\".format(x))"
   ]
  },
  {
   "cell_type": "markdown",
   "metadata": {},
   "source": [
    "## Gauss-Seidel iterative approach"
   ]
  },
  {
   "cell_type": "code",
   "execution_count": 122,
   "metadata": {},
   "outputs": [
    {
     "name": "stdout",
     "output_type": "stream",
     "text": [
      "Gauss-Seidel iterations 199,\n",
      "x: [1.99999825 2.0000013  1.99999968],\n",
      "error: [-2.44645356e-07  5.07511544e-07  0.00000000e+00]\n"
     ]
    }
   ],
   "source": [
    "def seidel(A, b, x = np.zeros(b.shape[0]), max_iter = 1000): \n",
    "    for iter in range(max_iter): \n",
    "        # Loop through each row\n",
    "        for i in range(A.shape[0]):         \n",
    "            # temp variable d to store b[j] \n",
    "            d = b[i]\n",
    "            # Iterate through the columns\n",
    "            for j in range(A.shape[1]):      \n",
    "                if(i != j): \n",
    "                    d-=A[i][j] * x[j] \n",
    "            # updating the value of our solution         \n",
    "            x[i] = d / A[i][i] \n",
    "        \n",
    "        if np.allclose(np.dot(A, x), b, rtol=1e-8):\n",
    "            break\n",
    "    else: # no break\n",
    "        raise RuntimeError(\"Insufficient number of iterations\")\n",
    "        \n",
    "    error = np.dot(A, x) - b\n",
    "    # returning our updated solution            \n",
    "    return x, error, iter\n",
    "\n",
    "\n",
    "A = np.array([[2,4,6], [4,11,21], [6, 21, 52]])\n",
    "\n",
    "b = np.array([24, 72, 158])\n",
    "x, error, iter = seidel(A, b)\n",
    "print(\"Gauss-Seidel iterations {},\\nx: {},\\nerror: {}\".format(iter, x, error))"
   ]
  }
 ],
 "metadata": {
  "kernelspec": {
   "display_name": "Python 3",
   "language": "python",
   "name": "python3"
  },
  "language_info": {
   "codemirror_mode": {
    "name": "ipython",
    "version": 3
   },
   "file_extension": ".py",
   "mimetype": "text/x-python",
   "name": "python",
   "nbconvert_exporter": "python",
   "pygments_lexer": "ipython3",
   "version": "3.7.5"
  }
 },
 "nbformat": 4,
 "nbformat_minor": 1
}
