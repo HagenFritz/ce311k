{
 "cells": [
  {
   "cell_type": "code",
   "execution_count": 8,
   "metadata": {},
   "outputs": [
    {
     "name": "stdout",
     "output_type": "stream",
     "text": [
      "CPU times: user 709 µs, sys: 3 ms, total: 3.71 ms\n",
      "Wall time: 1.93 ms\n",
      "CPU times: user 488 µs, sys: 1.12 ms, total: 1.61 ms\n",
      "Wall time: 976 µs\n"
     ]
    }
   ],
   "source": [
    "import numpy as np\n",
    "\n",
    "x = np.random.rand(1000)\n",
    "%time y = np.sin(x)**4 \n",
    "%time z = np.sin(x)*np.sin(x)*np.sin(x)*np.sin(x)"
   ]
  },
  {
   "cell_type": "code",
   "execution_count": 3,
   "metadata": {},
   "outputs": [
    {
     "name": "stdout",
     "output_type": "stream",
     "text": [
      "CPU times: user 409 ms, sys: 21.4 ms, total: 430 ms\n",
      "Wall time: 432 ms\n"
     ]
    },
    {
     "data": {
      "text/plain": [
       "array([4.43525659e-01, 3.72675573e-01, 7.62307387e-05, ...,\n",
       "       1.25698876e-01, 8.59292677e-04, 1.18652565e-01])"
      ]
     },
     "execution_count": 3,
     "metadata": {},
     "output_type": "execute_result"
    }
   ],
   "source": [
    "import numpy as np\n",
    "\n",
    "x = np.random.rand(10000000)\n",
    "%time (np.sin(x)*np.sin(x)*np.sin(x)*np.sin(x)) "
   ]
  },
  {
   "cell_type": "code",
   "execution_count": null,
   "metadata": {},
   "outputs": [],
   "source": []
  }
 ],
 "metadata": {
  "kernelspec": {
   "display_name": "Python 3",
   "language": "python",
   "name": "python3"
  },
  "language_info": {
   "codemirror_mode": {
    "name": "ipython",
    "version": 3
   },
   "file_extension": ".py",
   "mimetype": "text/x-python",
   "name": "python",
   "nbconvert_exporter": "python",
   "pygments_lexer": "ipython3",
   "version": "3.7.4"
  }
 },
 "nbformat": 4,
 "nbformat_minor": 2
}
