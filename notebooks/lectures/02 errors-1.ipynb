{
 "cells": [
  {
   "cell_type": "markdown",
   "metadata": {},
   "source": [
    "## 1a\n",
    "## 3 terms"
   ]
  },
  {
   "cell_type": "code",
   "execution_count": 21,
   "metadata": {},
   "outputs": [
    {
     "name": "stdout",
     "output_type": "stream",
     "text": [
      "The sum is 0.909\n",
      "The exact number is 0.9090909090909091\n",
      "The absolute error is 9.090909090903043e-05\n",
      "The relative error is 9.999999999993348e-05\n"
     ]
    }
   ],
   "source": [
    "import math\n",
    "sum = 1\n",
    "n = 3\n",
    "x = -0.1\n",
    "for y in range(1, n+1):\n",
    "    sum += x**y\n",
    "print(\"The sum is\", sum)\n",
    "\n",
    "\n",
    "exact = 1 / (1-x)\n",
    "print(\"The exact number is\", exact)\n",
    "\n",
    "abs_error = math.fabs(exact - sum)\n",
    "print(\"The absolute error is\", abs_error)\n",
    "\n",
    "rel_error = abs_error / exact\n",
    "print(\"The relative error is\", rel_error)"
   ]
  },
  {
   "cell_type": "markdown",
   "metadata": {},
   "source": [
    "## 1b\n",
    "## 5 terms"
   ]
  },
  {
   "cell_type": "code",
   "execution_count": 20,
   "metadata": {},
   "outputs": [
    {
     "name": "stdout",
     "output_type": "stream",
     "text": [
      "The sum is 0.9090900000000001\n",
      "The exact number is 0.9090909090909091\n",
      "The absolute error is 9.090909089959354e-07\n",
      "The relative error is 9.99999999895529e-07\n"
     ]
    }
   ],
   "source": [
    "import math\n",
    "sum = 1\n",
    "n = 5\n",
    "x = -0.1\n",
    "for y in range(1, n+1):\n",
    "    sum += x**y\n",
    "print(\"The sum is\", sum)\n",
    "\n",
    "\n",
    "exact = 1 / (1-x)\n",
    "print(\"The exact number is\", exact)\n",
    "\n",
    "abs_error = math.fabs(exact - sum)\n",
    "print(\"The absolute error is\", abs_error)\n",
    "\n",
    "rel_error = abs_error / exact\n",
    "print(\"The relative error is\", rel_error)"
   ]
  },
  {
   "cell_type": "markdown",
   "metadata": {},
   "source": [
    "## 1c\n",
    "## 7 terms"
   ]
  },
  {
   "cell_type": "code",
   "execution_count": 22,
   "metadata": {},
   "outputs": [
    {
     "name": "stdout",
     "output_type": "stream",
     "text": [
      "The sum is 0.9090909000000001\n",
      "The exact number is 0.9090909090909091\n",
      "The absolute error is 9.090908914544116e-09\n",
      "The relative error is 9.999999805998527e-09\n"
     ]
    }
   ],
   "source": [
    "import math\n",
    "sum = 1\n",
    "n = 7\n",
    "x = -0.1\n",
    "for y in range(1, n+1):\n",
    "    sum += x**y\n",
    "print(\"The sum is\", sum)\n",
    "\n",
    "\n",
    "exact = 1 / (1-x)\n",
    "print(\"The exact number is\", exact)\n",
    "\n",
    "abs_error = math.fabs(exact - sum)\n",
    "print(\"The absolute error is\", abs_error)\n",
    "\n",
    "rel_error = abs_error / exact\n",
    "print(\"The relative error is\", rel_error)"
   ]
  },
  {
   "cell_type": "markdown",
   "metadata": {},
   "source": [
    "## 2"
   ]
  },
  {
   "cell_type": "code",
   "execution_count": 59,
   "metadata": {},
   "outputs": [
    {
     "name": "stdout",
     "output_type": "stream",
     "text": [
      "The sum of e^(-x) is 0.006745540097711817\n",
      "The sum of 1 / e^(x) is 0.00673794754548251\n",
      "The absolute error for e^(-x) is 7.593097711817119e-06\n",
      "The relative error for e^(-x) is 0.0011269156186323695\n",
      "The absolute error for 1 / e^(x) is 5.454825098560878e-10\n",
      "The relative error for 1 / e^(x) is 8.095678251195621e-08\n"
     ]
    }
   ],
   "source": [
    "sum_e_1 = 1\n",
    "n = 20\n",
    "x = 5\n",
    "for z in range(1, n+1):\n",
    "    sum_e_1 += ((x**z) / math.factorial(z)) * ((-1)**(z))\n",
    "print(\"The sum of e^(-x) is\", sum_e_1)\n",
    "\n",
    "s = 1\n",
    "for a in range(1, n+1):\n",
    "    s += (x**a) / math.factorial(a)\n",
    "    sum_e_2 = 1 / s\n",
    "print(\"The sum of 1 / e^(x) is\", sum_e_2)\n",
    "\n",
    "exact_e = 6.737947*10**(-3)\n",
    "\n",
    "abs_1 = math.fabs(exact_e - sum_e_1)\n",
    "print(\"The absolute error for e^(-x) is\", abs_1)\n",
    "rel_1 = abs_1 / exact_e\n",
    "print(\"The relative error for e^(-x) is\", rel_1)\n",
    "\n",
    "abs_2 = math.fabs(exact_e - sum_e_2)\n",
    "print(\"The absolute error for 1 / e^(x) is\", abs_2)\n",
    "rel_2 = abs_2 / exact_e\n",
    "print(\"The relative error for 1 / e^(x) is\", rel_2)"
   ]
  },
  {
   "cell_type": "markdown",
   "metadata": {},
   "source": [
    "## 3"
   ]
  },
  {
   "cell_type": "code",
   "execution_count": 124,
   "metadata": {},
   "outputs": [
    {
     "name": "stdout",
     "output_type": "stream",
     "text": [
      "The Taylor series for cosine with one term is 0.6915748624659576\n",
      "The Taylor series for cosine with two terms is 0.707429206709773\n",
      "The Taylor series for cosine with three terms is 0.7071032148228457\n",
      "It takes 6 terms to have an allowable error of 1e-10\n"
     ]
    }
   ],
   "source": [
    "exact = math.cos(math.pi / 4)\n",
    "\n",
    "taylor_1 = 1\n",
    "x = ((math.pi)/4)\n",
    "n = 1\n",
    "for t in range(1, n+1):\n",
    "    taylor_1 += ((x**(2*t)) / (math.factorial(2*t))) * ((-1)**t)\n",
    "print(\"The Taylor series for cosine with one term is\", taylor_1)\n",
    "\n",
    "\n",
    "taylor_2 = 1\n",
    "x = ((math.pi)/4)\n",
    "n = 2\n",
    "for t in range(1, n+1):\n",
    "    taylor_2 += ((x**(2*t)) / (math.factorial(2*t))) * ((-1)**t)\n",
    "print(\"The Taylor series for cosine with two terms is\", taylor_2)\n",
    "\n",
    "\n",
    "taylor_3 = 1\n",
    "x = ((math.pi)/4)\n",
    "n = 3\n",
    "for t in range(1, n+1):\n",
    "    taylor_3 += ((x**(2*t)) / (math.factorial(2*t))) * ((-1)**t)\n",
    "print(\"The Taylor series for cosine with three terms is\", taylor_3)\n",
    "\n",
    "\n",
    "allow_error = 1e-10\n",
    "\n",
    "taylor_r = 0\n",
    "x = ((math.pi)/4)    \n",
    "for t in range(10):\n",
    "        taylor_r += ((x**(2*t)) / (math.factorial(2*t))) * ((-1)**t)\n",
    "        taylor_s = exact - taylor_r\n",
    "        if math.fabs(taylor_s) <= allow_error:\n",
    "            break\n",
    "print(\"It takes\", t, \"terms to have an allowable error of\", allow_error)\n"
   ]
  },
  {
   "cell_type": "markdown",
   "metadata": {},
   "source": [
    "## 4"
   ]
  },
  {
   "cell_type": "code",
   "execution_count": 210,
   "metadata": {},
   "outputs": [
    {
     "name": "stdout",
     "output_type": "stream",
     "text": [
      "The 16-bit representation of the sum's absolute error is 0.000291983711137922\n",
      "The 16-bit representation of the sum's relative error is 0.00026977496374789065\n",
      "The 32-bit representation of the sum's absolute error is 4.016102805870503e-08\n",
      "The 32-bit representation of the sum's relative error is 3.71063161242491e-08\n",
      "The 64-bit representation of the sum's absolute error is 2.7688962234151404e-13\n",
      "The 64-bit representation of the sum's relative error is 2.558289554517808e-13\n",
      "This occurs because as the bits increase, the sum can be calculated to a more accurate decimal point so the absolute and    relative error are smaller as the bit size increases.\n"
     ]
    }
   ],
   "source": [
    "import numpy as np\n",
    "exac = ((math.pi**4) / 90)\n",
    "summ = 0\n",
    "for d in range(1,10000):\n",
    "    summ += 1 / (d**4)\n",
    "\n",
    "summ16 = np.float16(summ)\n",
    "abs16 = math.fabs(exac - summ16)\n",
    "rel16 = abs16 / exac\n",
    "\n",
    "summ32 = np.float32(summ)\n",
    "abs32 = math.fabs(exac - summ32)\n",
    "rel32 = abs32 / exac\n",
    "\n",
    "summ64 = np.float64(summ)\n",
    "abs64 = math.fabs(exac - summ64)\n",
    "rel64 = abs64 / exac\n",
    "\n",
    "print(\"The 16-bit representation of the sum's absolute error is\", abs16)\n",
    "print(\"The 16-bit representation of the sum's relative error is\", rel16)\n",
    "\n",
    "print(\"The 32-bit representation of the sum's absolute error is\", abs32)\n",
    "print(\"The 32-bit representation of the sum's relative error is\", rel32)\n",
    "\n",
    "print(\"The 64-bit representation of the sum's absolute error is\", abs64)\n",
    "print(\"The 64-bit representation of the sum's relative error is\", rel64)\n",
    "\n",
    "\n",
    "print(\"This occurs because as the bits increase, the sum can be calculated to a more accurate decimal point so the absolute and    relative error are smaller as the bit size increases.\")"
   ]
  },
  {
   "cell_type": "markdown",
   "metadata": {},
   "source": [
    "## 5"
   ]
  },
  {
   "cell_type": "markdown",
   "metadata": {},
   "source": [
    "\n",
    "$$x^* = x \\pm \\epsilon_x$$\n",
    "$$y^* = y \\pm \\epsilon_y$$\n",
    "$$x^* - y^* = (x \\pm \\epsilon_x) - (y \\pm \\epsilon_y)$$\n",
    "$$\\epsilon = \\epsilon_x + \\epsilon_y$$"
   ]
  },
  {
   "cell_type": "markdown",
   "metadata": {},
   "source": [
    "## 6"
   ]
  },
  {
   "cell_type": "markdown",
   "metadata": {},
   "source": [
    "$$x^* = x (1 \\pm \\eta_x)$$\n",
    "$$y^* = y (1 \\pm \\eta_y)$$\n",
    "$$x^* * y^* = (1 \\pm \\eta_y) * (1 \\pm \\eta_x)$$\n",
    "$$\\eta = 1 + \\eta_x + \\eta_y$$"
   ]
  },
  {
   "cell_type": "markdown",
   "metadata": {},
   "source": [
    "## 7a"
   ]
  },
  {
   "cell_type": "code",
   "execution_count": 208,
   "metadata": {},
   "outputs": [
    {
     "name": "stdout",
     "output_type": "stream",
     "text": [
      "5 terms are needed to find the square root of 16 with an inital guess of 10.\n",
      "The absolute error with 5 terms is 9.738041173434908e-08\n",
      "The relative error is 0.41421363123144445\n"
     ]
    }
   ],
   "source": [
    "import math\n",
    "x = 2\n",
    "y = math.sqrt(x)\n",
    "g = 10\n",
    "allowable_error = 1e-5\n",
    "\n",
    "for i in range(51):\n",
    "    if abs(g*g - x) <= allowable_error:\n",
    "        print(\"The square root of x is\", g)\n",
    "        break\n",
    "    else:\n",
    "        g = (g + x/g) / 2\n",
    "        app = g*g\n",
    "        err = abs(app - x)\n",
    "        if abs(app - x) <= allowable_error:\n",
    "            break\n",
    "\n",
    "rel_err = abs((app - y) / y)\n",
    "\n",
    "print(i, \"terms are needed to find the square root of 16 with an inital guess of 10.\")\n",
    "print(\"The absolute error with\", i, \"terms is\", err)\n",
    "print(\"The relative error is\", rel_err)"
   ]
  },
  {
   "cell_type": "markdown",
   "metadata": {},
   "source": [
    "## 7b"
   ]
  },
  {
   "cell_type": "code",
   "execution_count": 207,
   "metadata": {},
   "outputs": [
    {
     "name": "stdout",
     "output_type": "stream",
     "text": [
      "4 terms are needed to find the square root of 16 with an inital guess of 10.\n",
      "The absolute error with 4 terms is 1.0737721822806634e-10\n",
      "The relative error is 3.0000000000268443\n"
     ]
    }
   ],
   "source": [
    "x = 16\n",
    "y = math.sqrt(x)\n",
    "g = 10\n",
    "allowable_error = 1e-5\n",
    "\n",
    "for i in range(51):\n",
    "    if abs(g*g - x) <= allowable_error:\n",
    "        print(\"The square root of x is\", g)\n",
    "        break\n",
    "    else:\n",
    "        g = (g + x/g) / 2\n",
    "        app = g*g\n",
    "        err = abs(app - x)\n",
    "        if abs(app - x) <= allowable_error:\n",
    "            break\n",
    "\n",
    "rel_err = abs((app - y) / y)\n",
    "\n",
    "print(i, \"terms are needed to find the square root of 16 with an inital guess of 10.\")\n",
    "print(\"The absolute error with\", i, \"terms is\", err)\n",
    "print(\"The relative error is\", rel_err)"
   ]
  }
 ],
 "metadata": {
  "kernelspec": {
   "display_name": "Python 3",
   "language": "python",
   "name": "python3"
  },
  "language_info": {
   "codemirror_mode": {
    "name": "ipython",
    "version": 3
   },
   "file_extension": ".py",
   "mimetype": "text/x-python",
   "name": "python",
   "nbconvert_exporter": "python",
   "pygments_lexer": "ipython3",
   "version": "3.6.8"
  }
 },
 "nbformat": 4,
 "nbformat_minor": 2
}
