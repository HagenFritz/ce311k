{
 "cells": [
  {
   "cell_type": "markdown",
   "metadata": {},
   "source": [
    "## Forces on a sliding block\n",
    "\n",
    "Determining the optimal angle at which the block could be pulled with the least force\n",
    "![forces on a sliding block](block-forces.png)"
   ]
  },
  {
   "cell_type": "code",
   "execution_count": 1,
   "metadata": {},
   "outputs": [
    {
     "data": {
      "image/png": "[encoded data removed]",
      "text/plain": [
       "<Figure size 432x288 with 1 Axes>"
      ]
     },
     "metadata": {
      "needs_background": "light"
     },
     "output_type": "display_data"
    }
   ],
   "source": [
    "# Matplotlib for plotting\n",
    "import matplotlib.pyplot as plt\n",
    "%matplotlib inline\n",
    "# Math functions\n",
    "import math\n",
    "\n",
    "# Weight of the block\n",
    "w = 100\n",
    "# Friction on the bottom plane\n",
    "friction = 0.5\n",
    "\n",
    "# Create an empty list of angles and forces\n",
    "angles = []\n",
    "forces = []\n",
    "\n",
    "# for angles between 0 and 90*\n",
    "for a in range(0, 90,5):\n",
    "    # F = (mu * W) / (cos(theta) + mu * sin(theta))\n",
    "    F = (friction*100)/(math.cos(math.radians(a)) + friction*math.sin(math.radians(a)))\n",
    "    # Add to list of angles and forces\n",
    "    angles.append(a)\n",
    "    forces.append(F)\n",
    "\n",
    "# Plot force and angles\n",
    "plt.plot(angles, forces, 'rs', label='mu = ' + str(friction))\n",
    "plt.xlabel(\"angle\", fontsize=12)\n",
    "plt.ylabel(\"force\", fontsize=12)\n",
    "plt.legend()\n",
    "plt.show()"
   ]
  }
 ],
 "metadata": {
  "kernelspec": {
   "display_name": "Python 3",
   "language": "python",
   "name": "python3"
  },
  "language_info": {
   "codemirror_mode": {
    "name": "ipython",
    "version": 3
   },
   "file_extension": ".py",
   "mimetype": "text/x-python",
   "name": "python",
   "nbconvert_exporter": "python",
   "pygments_lexer": "ipython3",
   "version": "3.7.4"
  }
 },
 "nbformat": 4,
 "nbformat_minor": 2
}
