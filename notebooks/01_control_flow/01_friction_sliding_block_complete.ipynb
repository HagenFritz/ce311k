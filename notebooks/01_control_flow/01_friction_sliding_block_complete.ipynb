{
 "cells": [
  {
   "cell_type": "markdown",
   "metadata": {},
   "source": [
    "## Forces on a sliding block\n",
    "\n",
    "![forces on a sliding block](block-forces.png)"
   ]
  },
  {
   "cell_type": "markdown",
   "metadata": {
    "scrolled": true
   },
   "source": [
    "Given a weight $W = 25 kN$, friction coefficient $\\mu = 0.75$, and angle of inclination $\\theta = 45^o$, calculate the force required to pull the block.\n",
    "\n",
    "$$\n",
    "F = \\frac{\\mu W}{\\cos \\theta + \\mu \\sin \\theta} = \\frac{\\mu mg}{\\cos \\theta + \\mu \\sin \\theta}\n",
    "$$\n",
    "\n",
    "\n",
    "Python has a lot of useful standard library functions which are defined in modules. A Python code can gain access to the code in another module by the process of importing it. The import statement is the most common way of invoking the import machinery, but it is not the only way. We need to import a module called `math`, which has predefined trignometric functions using `import math`, this makes available all the functions in `math` module. To use the `cos` function in `math` module, we do `math.cos(angle)`"
   ]
  },
  {
   "cell_type": "code",
   "execution_count": 4,
   "metadata": {},
   "outputs": [
    {
     "name": "stdout",
     "output_type": "stream",
     "text": [
      "Force is 15.01 kN\n"
     ]
    }
   ],
   "source": [
    "# Import math module for trignometric functions\n",
    "import math\n",
    "\n",
    "# Assign variables\n",
    "mu = 0.75   # friction coefficient\n",
    "weight = 25 # Weight of the block in kN\n",
    "theta = 35  # angle in degrees\n",
    "\n",
    "# Compute pulling force: F = (mu * W) / (cos(theta) + mu * sin(theta))\n",
    "force = (mu * weight) / (math.cos(math.radians(theta)) +\n",
    "                                       mu * math.sin(math.radians(theta)))\n",
    "\n",
    "print(\"Force is {:.2f} kN\".format(force))"
   ]
  },
  {
   "cell_type": "markdown",
   "metadata": {},
   "source": [
    "## Lists\n",
    "\n",
    "A list is a sequence of data. An 'array' in most other languages is a similar concept, but Python lists are more general than most arrays as they can hold a mixture of types. A list is constructed using square brackets. To create a list of Pixar movies `['Toy Story', 'Monsters Inc', 'Finding Nemo', 'The Incredibles', 'Cars']`:"
   ]
  },
  {
   "cell_type": "code",
   "execution_count": 2,
   "metadata": {},
   "outputs": [
    {
     "name": "stdout",
     "output_type": "stream",
     "text": [
      "['Toy Story', 'Monsters Inc', 'Finding Nemo', 'The Incredibles', 'Cars']\n",
      "5\n"
     ]
    }
   ],
   "source": [
    "pixar = [\"Toy Story\", \"Monsters Inc\", \"Finding Nemo\", \"The Incredibles\", \"Cars\"]\n",
    "\n",
    "print(pixar)\n",
    "print(len(pixar))"
   ]
  },
  {
   "cell_type": "markdown",
   "metadata": {},
   "source": [
    "An empty list is created by `[]`"
   ]
  },
  {
   "cell_type": "code",
   "execution_count": 3,
   "metadata": {},
   "outputs": [],
   "source": [
    "empty_list = []"
   ]
  },
  {
   "cell_type": "markdown",
   "metadata": {},
   "source": [
    "To add an item to list use `list.append(item)`. Let's add a new Pixar movie: `coco`."
   ]
  },
  {
   "cell_type": "code",
   "execution_count": 4,
   "metadata": {},
   "outputs": [
    {
     "name": "stdout",
     "output_type": "stream",
     "text": [
      "Number of Pixar movies: 6\n"
     ]
    }
   ],
   "source": [
    "pixar.append(\"Coco\")\n",
    "print(\"Number of Pixar movies: {}\".format(len(pixar)))"
   ]
  },
  {
   "cell_type": "markdown",
   "metadata": {},
   "source": [
    "### Iterating through a list\n",
    "\n",
    "\n",
    "Looping over each item in a list (or more generally a sequence) is called *iterating*. We iterate over the movies in the pixar list using the syntax:"
   ]
  },
  {
   "cell_type": "code",
   "execution_count": 5,
   "metadata": {},
   "outputs": [
    {
     "name": "stdout",
     "output_type": "stream",
     "text": [
      "Toy Story\n",
      "Monsters Inc\n",
      "Finding Nemo\n",
      "The Incredibles\n",
      "Cars\n",
      "Coco\n"
     ]
    }
   ],
   "source": [
    "for movie in pixar:\n",
    "    print(movie)"
   ]
  },
  {
   "cell_type": "markdown",
   "metadata": {},
   "source": [
    "### Create a list of possible angles \n",
    "\n",
    "`angles` should store a list of ```[0, 10, 20, 30, 40, 50, 60, 70, 80, 90]```"
   ]
  },
  {
   "cell_type": "code",
   "execution_count": 6,
   "metadata": {},
   "outputs": [
    {
     "name": "stdout",
     "output_type": "stream",
     "text": [
      "[0, 10, 20, 30, 40, 50, 60, 70, 80, 90]\n"
     ]
    }
   ],
   "source": [
    "# A list of possible angles\n",
    "angles = [0, 10, 20, 30, 40, 50, 60, 70, 80, 90]\n",
    "print(angles)"
   ]
  },
  {
   "cell_type": "markdown",
   "metadata": {},
   "source": [
    "### Iterate through all the angles and calculate the force for each of those angles\n",
    "\n",
    "print `(angle, force)` for each angle."
   ]
  },
  {
   "cell_type": "code",
   "execution_count": 7,
   "metadata": {},
   "outputs": [
    {
     "name": "stdout",
     "output_type": "stream",
     "text": [
      "0 18.75\n",
      "10 16.81548164247548\n",
      "20 15.674535080088216\n",
      "30 15.108473962598113\n",
      "40 15.02241163085036\n",
      "50 15.402675952323367\n",
      "60 16.31116940054498\n",
      "70 17.911908792668115\n",
      "80 20.553486370758943\n",
      "90 24.999999999999996\n"
     ]
    }
   ],
   "source": [
    "# Iterate through angles\n",
    "\n",
    "# Import math module for trignometric functions\n",
    "import math\n",
    "\n",
    "# Assign variables\n",
    "mu = 0.75   # friction coefficient\n",
    "weight = 25 # Weight of the block in kN\n",
    "theta = 45  # angle in degrees\n",
    "\n",
    "# Create a list of angles\n",
    "angles = [0, 10, 20, 30, 40, 50, 60, 70, 80, 90]\n",
    "\n",
    "for theta in angles:\n",
    "    # Compute pulling force: F = (mu * W) / (cos(theta) + mu * sin(theta))\n",
    "    force = (mu * weight) / (math.cos(math.radians(theta)) +\n",
    "                                       mu * math.sin(math.radians(theta)))\n",
    "\n",
    "    print(theta, force)"
   ]
  },
  {
   "cell_type": "markdown",
   "metadata": {},
   "source": [
    "### Plot the forces and angles\n",
    "\n",
    "We will be using a module called `mathplotlib` using `import matplotlib.pyplot as plt` to plot a list of angles and forces. The additional `as` part in the `import module` functions helps us keeping our code concise. Instead of typing `matplotlib.pyplot.plot()` we can just type `plt.plot()`. You may need to include `%matplotlib inline` to enable inline plotting in Jupyter notebook, include inline after you import `matplotlib`.\n",
    "\n",
    "Let's create an empty list of forces using `[]`. At each iteration `append` the force to the `forces` list."
   ]
  },
  {
   "cell_type": "code",
   "execution_count": 8,
   "metadata": {},
   "outputs": [
    {
     "data": {
      "text/plain": [
       "[<matplotlib.lines.Line2D at 0x7fb12825d590>]"
      ]
     },
     "execution_count": 8,
     "metadata": {},
     "output_type": "execute_result"
    }
   ],
   "source": [
    "# Iterate through angles and plot\n",
    "\n",
    "# Import math module for trignometric functions\n",
    "import math\n",
    "\n",
    "# Import plotting functions from matplotlib\n",
    "import matplotlib.pyplot as plt\n",
    "\n",
    "# Assign variables\n",
    "mu = 0.75   # friction coefficient\n",
    "weight = 25 # Weight of the block in kN\n",
    "theta = 45  # angle in degrees\n",
    "\n",
    "# Create a list of angles\n",
    "angles = [0, 10, 20, 30, 40, 50, 60, 70, 80, 90]\n",
    "\n",
    "# Create an empty list of forces\n",
    "forces = []\n",
    "\n",
    "for theta in angles:\n",
    "    # Compute pulling force: F = (mu * W) / (cos(theta) + mu * sin(theta))\n",
    "    force = (mu * weight) / (math.cos(math.radians(theta)) +\n",
    "                                       mu * math.sin(math.radians(theta)))\n",
    "\n",
    "    forces.append(force)\n",
    "\n",
    "\n",
    "# Plot angles vs forces\n",
    "plt.plot(angles, forces)"
   ]
  },
  {
   "cell_type": "markdown",
   "metadata": {},
   "source": [
    "### Update the angles list to increment every 1 degree from 0 to 90\n",
    "\n",
    "Create an updated list of angles so that `angles = [0, 1, 2, ..., 90]`. A simple function to do that is `range(stop)`. \n",
    "\n",
    "`stop`: Number of integers (whole numbers) to generate, starting from zero up to but not including `stop`.\n",
    "\n",
    "e.g., `range(3)` yields a sequence of `[0, 1, 2]`.\n",
    "\n",
    "`range([start], stop[, step])`\n",
    "\n",
    "`start`: Starting number of the sequence.\n",
    "`stop` : Generate numbers up to, but not including this number.\n",
    "`step` : Difference between each number in the sequence.\n",
    "\n",
    "e.g., `list(range(0, 10, 2))` yields a sequence of `[0, 2, 4, 6, 8]`."
   ]
  },
  {
   "cell_type": "code",
   "execution_count": 9,
   "metadata": {},
   "outputs": [
    {
     "data": {
      "text/plain": [
       "[<matplotlib.lines.Line2D at 0x7fb10a3c11d0>]"
      ]
     },
     "execution_count": 9,
     "metadata": {},
     "output_type": "execute_result"
    },
    {
     "data": {
      "image/png": "[encoded data removed]",
      "text/plain": [
       "<Figure size 432x288 with 1 Axes>"
      ]
     },
     "metadata": {
      "needs_background": "light"
     },
     "output_type": "display_data"
    }
   ],
   "source": [
    "# Iterate through angles using range and plot\n",
    "\n",
    "# Import math module for trignometric functions\n",
    "import math\n",
    "\n",
    "# Import plotting functions from matplotlib\n",
    "import matplotlib.pyplot as plt\n",
    "\n",
    "# Assign variables\n",
    "mu = 0.75   # friction coefficient\n",
    "weight = 25 # Weight of the block in kN\n",
    "theta = 45  # angle in degrees\n",
    "\n",
    "# Create an empty list of forces\n",
    "forces = []\n",
    "\n",
    "# Create a list of angles from 0 to 90, range(0, 91, 1)\n",
    "angles = list(range(91))\n",
    "\n",
    "# Iterate through all angles\n",
    "for theta in angles:\n",
    "    # Compute pulling force: F = (mu * W) / (cos(theta) + mu * sin(theta))\n",
    "    force = (mu * weight) / (math.cos(math.radians(theta)) +\n",
    "                                       mu * math.sin(math.radians(theta)))\n",
    "\n",
    "    forces.append(force)\n",
    "\n",
    "\n",
    "# Plot angles vs forces\n",
    "plt.plot(angles, forces)"
   ]
  }
 ],
 "metadata": {
  "kernelspec": {
   "display_name": "Python 3",
   "language": "python",
   "name": "python3"
  },
  "language_info": {
   "codemirror_mode": {
    "name": "ipython",
    "version": 3
   },
   "file_extension": ".py",
   "mimetype": "text/x-python",
   "name": "python",
   "nbconvert_exporter": "python",
   "pygments_lexer": "ipython3",
   "version": "3.7.4"
  }
 },
 "nbformat": 4,
 "nbformat_minor": 2
}
